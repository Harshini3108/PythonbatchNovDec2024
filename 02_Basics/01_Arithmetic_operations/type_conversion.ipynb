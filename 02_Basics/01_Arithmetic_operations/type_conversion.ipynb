{
 "cells": [
  {
   "cell_type": "markdown",
   "metadata": {},
   "source": [
    "##### Data Type Conversions"
   ]
  },
  {
   "cell_type": "markdown",
   "metadata": {},
   "source": [
    "- int, float, complex, boolean, string, None\n",
    "\n",
    "Integer Family\n",
    "\n",
    "    int - decimal       - int() -base 10    (0-9)\n",
    "        - binary        - bin() -base 2     (0-1)\n",
    "        - hexadecimal   - hex() -base 16    (0-9 A-F)\n",
    "        - octal         - oct() -base  8    (0-7)\n",
    "\n",
    "    float\n",
    "        float()\n",
    "    string\n",
    "        str()"
   ]
  },
  {
   "cell_type": "code",
   "execution_count": 2,
   "metadata": {},
   "outputs": [
    {
     "name": "stdout",
     "output_type": "stream",
     "text": [
      "12 12.0\n"
     ]
    }
   ],
   "source": [
    "# int --> float\n",
    "print(12,float(12))"
   ]
  },
  {
   "cell_type": "code",
   "execution_count": null,
   "metadata": {},
   "outputs": [
    {
     "name": "stdout",
     "output_type": "stream",
     "text": [
      "3.1416 3\n",
      "3.1416 3.1416\n"
     ]
    }
   ],
   "source": [
    "# float -->int\n",
    "\n",
    "print(3.1416, int(3.1416))\n",
    "\n",
    "# float --> str\n",
    "print(3.1416, str(3.1416))"
   ]
  },
  {
   "cell_type": "code",
   "execution_count": 5,
   "metadata": {},
   "outputs": [
    {
     "name": "stdout",
     "output_type": "stream",
     "text": [
      "23 23\n"
     ]
    }
   ],
   "source": [
    "# str --> \n",
    "\n",
    "print(\"23\", int(\"23\"))"
   ]
  },
  {
   "cell_type": "code",
   "execution_count": 6,
   "metadata": {},
   "outputs": [
    {
     "data": {
      "text/plain": [
       "'0b10100'"
      ]
     },
     "execution_count": 6,
     "metadata": {},
     "output_type": "execute_result"
    }
   ],
   "source": [
    "# decimal --> binary form\n",
    "num1 = 20\n",
    "bin(num1)"
   ]
  },
  {
   "cell_type": "code",
   "execution_count": null,
   "metadata": {},
   "outputs": [],
   "source": [
    "#     128  64   32  16  8   4   2   1\n",
    "# 20   0    0   0   1   0   1   0   0"
   ]
  },
  {
   "cell_type": "code",
   "execution_count": 7,
   "metadata": {},
   "outputs": [
    {
     "name": "stdout",
     "output_type": "stream",
     "text": [
      "oct(9)  0o11\n",
      "oct(-23)  -0o27\n"
     ]
    }
   ],
   "source": [
    "# oct --> 0-7\n",
    "# decimal -- > octal\n",
    "\n",
    "print(\"oct(9) \", oct(9))\n",
    "print(\"oct(-23) \", oct(-23))"
   ]
  },
  {
   "cell_type": "code",
   "execution_count": 8,
   "metadata": {},
   "outputs": [
    {
     "name": "stdout",
     "output_type": "stream",
     "text": [
      "-20\n",
      "-23\n"
     ]
    }
   ],
   "source": [
    "# hexdecimal --> decimal\n",
    "\n",
    "print(int(hex(-20), base=16))\n",
    "print(int(\"-0x17\", base=16))\n"
   ]
  },
  {
   "cell_type": "code",
   "execution_count": 11,
   "metadata": {},
   "outputs": [
    {
     "name": "stdout",
     "output_type": "stream",
     "text": [
      "0o643\n",
      "0o763\n"
     ]
    }
   ],
   "source": [
    "# Hex --> oct\n",
    "print(oct(int(\"1A3\", base=16)))\n",
    "print(oct(int(\"1F3\", base=16)))"
   ]
  },
  {
   "cell_type": "code",
   "execution_count": 16,
   "metadata": {},
   "outputs": [
    {
     "name": "stdout",
     "output_type": "stream",
     "text": [
      "0x1a3\n",
      "0x1f3\n"
     ]
    }
   ],
   "source": [
    "# Oct --> Hex\n",
    "print(hex(int(\"0o643\", base=8)))\n",
    "print(hex(int(\"0o763\", base=8)))"
   ]
  },
  {
   "cell_type": "markdown",
   "metadata": {},
   "source": [
    "abs : Absolute value\n",
    "\n",
    "    Built-in function, to return the absolte value\n",
    "\n",
    "    If a is positive real integer,\n",
    "        abs(a) = a\n",
    "        abs(-a) = a\n",
    "        abs(a+bj) is eqal to math.sqrt(pow(a,2)+ pow(b,2))"
   ]
  },
  {
   "cell_type": "code",
   "execution_count": 18,
   "metadata": {},
   "outputs": [
    {
     "name": "stdout",
     "output_type": "stream",
     "text": [
      "164.592\n"
     ]
    }
   ],
   "source": [
    "# feet to cms conversion\n",
    "\n",
    "# cms = feet * 30.48\n",
    "\n",
    "feet = 5.4\n",
    "cms = feet * 30.48\n",
    "print(cms)"
   ]
  },
  {
   "cell_type": "code",
   "execution_count": null,
   "metadata": {},
   "outputs": [],
   "source": []
  }
 ],
 "metadata": {
  "kernelspec": {
   "display_name": "Python 3",
   "language": "python",
   "name": "python3"
  },
  "language_info": {
   "codemirror_mode": {
    "name": "ipython",
    "version": 3
   },
   "file_extension": ".py",
   "mimetype": "text/x-python",
   "name": "python",
   "nbconvert_exporter": "python",
   "pygments_lexer": "ipython3",
   "version": "3.12.1"
  }
 },
 "nbformat": 4,
 "nbformat_minor": 2
}
